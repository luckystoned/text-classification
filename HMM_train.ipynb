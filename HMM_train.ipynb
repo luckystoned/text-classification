{
  "cells": [
    {
      "cell_type": "markdown",
      "metadata": {
        "id": "hSAvAQeUboQH"
      },
      "source": [
        "# Training a Hidden Markov Model (HMM)"
      ]
    },
    {
      "cell_type": "markdown",
      "metadata": {
        "id": "apZTvqywabkM"
      },
      "source": [
        "## Corpus de español:\n",
        "\n",
        "* AnCora | Github: https://github.com/UniversalDependencies/UD_Spanish-AnCora\n",
        "\n",
        "* usamos el conllu parser para leer el corpus: https://pypi.org/project/conllu/\n",
        "\n",
        "* Etiquetas Universal POS (Documentación): https://universaldependencies.org/u/pos/"
      ]
    },
    {
      "cell_type": "code",
      "execution_count": null,
      "metadata": {
        "colab": {
          "base_uri": "https://localhost:8080/",
          "height": 228
        },
        "id": "7SyjRpNdXx6l",
        "outputId": "c199c05e-2c3a-47fa-ee61-b562798bc369"
      },
      "outputs": [
        {
          "name": "stdout",
          "output_type": "stream",
          "text": [
            "Collecting conllu\n",
            "  Downloading https://files.pythonhosted.org/packages/66/0b/a8863b5c14aee200a13a0f8c28550fd0132e947ae88441c9f517eb84613b/conllu-3.0-py2.py3-none-any.whl\n",
            "Installing collected packages: conllu\n",
            "Successfully installed conllu-3.0\n",
            "Cloning into 'UD_Spanish-AnCora'...\n",
            "remote: Enumerating objects: 11, done.\u001b[K\n",
            "remote: Counting objects: 100% (11/11), done.\u001b[K\n",
            "remote: Compressing objects: 100% (8/8), done.\u001b[K\n",
            "remote: Total 506 (delta 4), reused 9 (delta 3), pack-reused 495\n",
            "Receiving objects: 100% (506/506), 108.34 MiB | 25.85 MiB/s, done.\n",
            "Resolving deltas: 100% (351/351), done.\n"
          ]
        }
      ],
      "source": [
        "#@title dependencias previas\n",
        "!pip install conllu\n",
        "!git clone https://github.com/UniversalDependencies/UD_Spanish-AnCora.git"
      ]
    },
    {
      "cell_type": "code",
      "execution_count": null,
      "metadata": {
        "id": "2KxqUFhyXozz"
      },
      "outputs": [],
      "source": [
        "#@title leyendo el corpus AnCora\n",
        "from conllu import parse_incr\n",
        "wordList = []\n",
        "data_file = open(\"UD_Spanish-AnCora/es_ancora-ud-dev.conllu\", \"r\", encoding=\"utf-8\")\n",
        "for tokenlist in parse_incr(data_file):\n",
        "    print(tokenlist.serialize())"
      ]
    },
    {
      "cell_type": "code",
      "execution_count": null,
      "metadata": {
        "colab": {
          "base_uri": "https://localhost:8080/",
          "height": 190
        },
        "id": "atcsH_bm9L6T",
        "outputId": "d9a117a8-2ea4-45ad-eada-cb5d8266b3d0"
      },
      "outputs": [
        {
          "data": {
            "text/plain": [
              "Token([('id', 2),\n",
              "       ('form', 'cierto'),\n",
              "       ('lemma', 'cierto'),\n",
              "       ('upos', 'ADJ'),\n",
              "       ('xpos', 'ADJ'),\n",
              "       ('feats', OrderedDict([('Gender', 'Masc'), ('Number', 'Sing')])),\n",
              "       ('head', 3),\n",
              "       ('deprel', 'nsubj'),\n",
              "       ('deps', None),\n",
              "       ('misc', None)])"
            ]
          },
          "execution_count": 3,
          "metadata": {
            "tags": []
          },
          "output_type": "execute_result"
        }
      ],
      "source": [
        "#@title Estructura de los tokens etiquetados del corpus\n",
        "tokenlist[1]"
      ]
    },
    {
      "cell_type": "code",
      "execution_count": null,
      "metadata": {
        "colab": {
          "base_uri": "https://localhost:8080/",
          "height": 36
        },
        "id": "Ia8ZEUJmaQdw",
        "outputId": "a002ba40-875b-4f2a-99f1-4984a5c9e9b3"
      },
      "outputs": [
        {
          "data": {
            "application/vnd.google.colaboratory.intrinsic": "{\"type\":\"string\"}",
            "text/plain": [
              "'cierto|ADJ'"
            ]
          },
          "execution_count": 4,
          "metadata": {
            "tags": []
          },
          "output_type": "execute_result"
        }
      ],
      "source": [
        "tokenlist[1]['form']+'|'+tokenlist[1]['upos']"
      ]
    },
    {
      "cell_type": "markdown",
      "metadata": {
        "id": "g2F4mvQqN5Tm"
      },
      "source": [
        "## Entrenamiento del modelo - Calculo de conteos:\n",
        "\n",
        "* tags (tags) `tagCountDict`: $C(tag)$\n",
        "* emisiones (word|tag) `emissionProbDict`: $C(word|tag)$\n",
        "* transiciones (tag|prevtag) `transitionDict`: $C(tag|prevtag)$"
      ]
    },
    {
      "cell_type": "code",
      "execution_count": null,
      "metadata": {
        "id": "N04oYlQgeAW9"
      },
      "outputs": [],
      "source": [
        "tagCountDict = {}\n",
        "emissionDict = {}\n",
        "transitionDict = {}\n",
        "\n",
        "tagtype = 'upos'\n",
        "data_file = open(\"UD_Spanish-AnCora/es_ancora-ud-dev.conllu\", \"r\", encoding=\"utf-8\")\n",
        "\n",
        "# Calculando conteos (pre-probabilidades)\n",
        "for tokenlist in parse_incr(data_file):\n",
        "  prevtag = None\n",
        "  for token in tokenlist:\n",
        "\n",
        "    # C(tag)\n",
        "    tag = token[tagtype]\n",
        "    if tag in tagCountDict.keys():\n",
        "      tagCountDict[tag] += 1\n",
        "    else:\n",
        "      tagCountDict[tag] = 1\n",
        "\n",
        "    # C(word|tag) -> probabilidades emision\n",
        "    wordtag = token['form'].lower()+'|'+token[tagtype] # (word|tag)\n",
        "    if wordtag in emissionDict.keys():\n",
        "      emissionDict[wordtag] = emissionDict[wordtag] + 1\n",
        "    else:\n",
        "      emissionDict[wordtag] = 1\n",
        "\n",
        "    #  C(tag|tag_previo) -> probabilidades transición\n",
        "    if prevtag is None:\n",
        "      prevtag = tag\n",
        "      continue\n",
        "    transitiontags = tag+'|'+prevtag\n",
        "    if transitiontags in transitionDict.keys():\n",
        "      transitionDict[transitiontags] = transitionDict[transitiontags] + 1\n",
        "    else:\n",
        "      transitionDict[transitiontags] = 1\n",
        "    prevtag = tag\n",
        "\n",
        "#transitionDict\n",
        "#emissionDict\n",
        "#tagCountDict"
      ]
    },
    {
      "cell_type": "markdown",
      "metadata": {
        "id": "XIXcZxSdOO__"
      },
      "source": [
        "## Entrenamiento del modelo - calculo de probabilidades\n",
        "* probabilidades de transición:\n",
        "$$P(tag|prevtag) = \\frac{C(prevtag, tag)}{C(prevtag)}$$\n",
        "\n",
        "* probabilidades de emisión:\n",
        " $$P(word|tag) = \\frac{C(word|tag)}{C(tag)}$$"
      ]
    },
    {
      "cell_type": "code",
      "execution_count": null,
      "metadata": {
        "colab": {
          "base_uri": "https://localhost:8080/",
          "height": 34
        },
        "id": "KznFFp2COzf7",
        "outputId": "878214a9-e32a-41ce-87b6-e615b33c7ada"
      },
      "outputs": [
        {
          "data": {
            "text/plain": [
              "0.030225988700564973"
            ]
          },
          "execution_count": 6,
          "metadata": {
            "tags": []
          },
          "output_type": "execute_result"
        }
      ],
      "source": [
        "transitionProbDict = {} # matriz A\n",
        "emissionProbDict = {} # matriz B\n",
        "\n",
        "# transition Probabilities\n",
        "for key in transitionDict.keys():\n",
        "  tag, prevtag = key.split('|')\n",
        "  if tagCountDict[prevtag]>0:\n",
        "    transitionProbDict[key] = transitionDict[key]/(tagCountDict[prevtag])\n",
        "  else:\n",
        "    print(key)\n",
        "\n",
        "# emission Probabilities\n",
        "for key in emissionDict.keys():\n",
        "  word, tag = key.split('|')\n",
        "  if emissionDict[key]>0:\n",
        "    emissionProbDict[key] = emissionDict[key]/tagCountDict[tag]\n",
        "  else:\n",
        "    print(key)\n",
        "\n",
        "transitionProbDict['ADJ|ADJ']\n",
        "#emissionProbDict"
      ]
    },
    {
      "cell_type": "markdown",
      "metadata": {
        "id": "_AyYqw1FZZ89"
      },
      "source": [
        "## Guardar parámetros del modelo"
      ]
    },
    {
      "cell_type": "code",
      "execution_count": null,
      "metadata": {
        "colab": {
          "base_uri": "https://localhost:8080/",
          "height": 34
        },
        "id": "Ido5QcAkY4OK",
        "outputId": "41e7d6c2-68c4-4090-826a-951ab980b238"
      },
      "outputs": [
        {
          "data": {
            "text/plain": [
              "0.030225988700564973"
            ]
          },
          "execution_count": 7,
          "metadata": {
            "tags": []
          },
          "output_type": "execute_result"
        }
      ],
      "source": [
        "import numpy as np\n",
        "np.save('transitionHMM.npy', transitionProbDict)\n",
        "np.save('emissionHMM.npy', emissionProbDict)\n",
        "transitionProbdict = np.load('transitionHMM.npy', allow_pickle='TRUE').item()\n",
        "transitionProbDict['ADJ|ADJ']"
      ]
    }
  ],
  "metadata": {
    "colab": {
      "collapsed_sections": [
        "apZTvqywabkM"
      ],
      "provenance": []
    },
    "kernelspec": {
      "display_name": "Python 3",
      "name": "python3"
    }
  },
  "nbformat": 4,
  "nbformat_minor": 0
}
