{
  "cells": [
    {
      "cell_type": "markdown",
      "metadata": {
        "id": "6YTaQq9dCh0E"
      },
      "source": [
        "# Word Classification (By name gender)"
      ]
    },
    {
      "cell_type": "code",
      "execution_count": null,
      "metadata": {
        "colab": {
          "base_uri": "https://localhost:8080/",
          "height": 49
        },
        "id": "5co_TuOhC4ze",
        "outputId": "6ed198ee-9cb9-48b9-ab74-db9655585c0e"
      },
      "outputs": [
        {
          "name": "stdout",
          "output_type": "stream",
          "text": [
            "[nltk_data] Downloading package names to /root/nltk_data...\n",
            "[nltk_data]   Package names is already up-to-date!\n"
          ]
        }
      ],
      "source": [
        "import nltk, random\n",
        "nltk.download('names')\n",
        "from nltk.corpus import names"
      ]
    },
    {
      "cell_type": "markdown",
      "metadata": {
        "id": "ijhsE2PBFYxm"
      },
      "source": [
        "**Basics of Feature Extraction**"
      ]
    },
    {
      "cell_type": "code",
      "execution_count": null,
      "metadata": {
        "id": "b0kKV62lCZ55"
      },
      "outputs": [],
      "source": [
        "# Relevants Attributes\n",
        "def atributos(palabra):\n",
        "\treturn {'ultima_letra': palabra[-1]}\n",
        "\n",
        "tagset = ([(name, 'male') for name in names.words('male.txt')] + [(name, 'female') for name in names.words('female.txt')])"
      ]
    },
    {
      "cell_type": "code",
      "execution_count": null,
      "metadata": {
        "colab": {
          "base_uri": "https://localhost:8080/",
          "height": 181
        },
        "id": "IjfK5ZKwDL__",
        "outputId": "fef1000d-e474-43f0-986d-10b721946e59"
      },
      "outputs": [
        {
          "data": {
            "text/plain": [
              "[('Aamir', 'male'),\n",
              " ('Aaron', 'male'),\n",
              " ('Abbey', 'male'),\n",
              " ('Abbie', 'male'),\n",
              " ('Abbot', 'male'),\n",
              " ('Abbott', 'male'),\n",
              " ('Abby', 'male'),\n",
              " ('Abdel', 'male'),\n",
              " ('Abdul', 'male'),\n",
              " ('Abdulkarim', 'male')]"
            ]
          },
          "execution_count": 3,
          "metadata": {
            "tags": []
          },
          "output_type": "execute_result"
        }
      ],
      "source": [
        "tagset[:10]"
      ]
    },
    {
      "cell_type": "code",
      "execution_count": null,
      "metadata": {
        "colab": {
          "base_uri": "https://localhost:8080/",
          "height": 181
        },
        "id": "jZcAN-dmCrok",
        "outputId": "b114852f-8e71-4121-fda3-21bb731353b4"
      },
      "outputs": [
        {
          "data": {
            "text/plain": [
              "[('Armond', 'male'),\n",
              " ('Leodora', 'female'),\n",
              " ('Webster', 'male'),\n",
              " ('Ashlen', 'female'),\n",
              " ('Talbert', 'male'),\n",
              " ('Reeva', 'female'),\n",
              " ('Linzy', 'female'),\n",
              " ('Veronique', 'female'),\n",
              " ('Fredrika', 'female'),\n",
              " ('Earle', 'male')]"
            ]
          },
          "execution_count": 4,
          "metadata": {
            "tags": []
          },
          "output_type": "execute_result"
        }
      ],
      "source": [
        "random.shuffle(tagset)\n",
        "tagset[:10]"
      ]
    },
    {
      "cell_type": "code",
      "execution_count": null,
      "metadata": {
        "id": "QzK97C8BDmHR"
      },
      "outputs": [],
      "source": [
        "fset = [(atributos(n), g) for (n, g) in tagset]\n",
        "train, test = fset[500:], fset[:500]"
      ]
    },
    {
      "cell_type": "markdown",
      "metadata": {
        "id": "qQPv0tW4Fd2G"
      },
      "source": [
        "**Naive Bayes Model Classification**"
      ]
    },
    {
      "cell_type": "code",
      "execution_count": null,
      "metadata": {
        "id": "37jueg4nDQFs"
      },
      "outputs": [],
      "source": [
        "# NaiveBayes model training\n",
        "classifier = nltk.NaiveBayesClassifier.train(train)"
      ]
    },
    {
      "cell_type": "markdown",
      "metadata": {
        "id": "BAWfUSHrEj3q"
      },
      "source": [
        " **Verifyin some predictions** "
      ]
    },
    {
      "cell_type": "code",
      "execution_count": null,
      "metadata": {
        "colab": {
          "base_uri": "https://localhost:8080/",
          "height": 34
        },
        "id": "Mr8ytm8SEEZk",
        "outputId": "cf62ff8a-2722-4331-bf70-66aafff1d9e8"
      },
      "outputs": [
        {
          "data": {
            "application/vnd.google.colaboratory.intrinsic": "{\"type\":\"string\"}",
            "text/plain": [
              "'female'"
            ]
          },
          "execution_count": 7,
          "metadata": {
            "tags": []
          },
          "output_type": "execute_result"
        }
      ],
      "source": [
        "classifier.classify(atributos('amanda'))"
      ]
    },
    {
      "cell_type": "code",
      "execution_count": null,
      "metadata": {
        "colab": {
          "base_uri": "https://localhost:8080/",
          "height": 34
        },
        "id": "c0GG1Y1_EPaO",
        "outputId": "6f286792-7845-44f8-b22b-1cf6815036a9"
      },
      "outputs": [
        {
          "data": {
            "application/vnd.google.colaboratory.intrinsic": "{\"type\":\"string\"}",
            "text/plain": [
              "'male'"
            ]
          },
          "execution_count": 8,
          "metadata": {
            "tags": []
          },
          "output_type": "execute_result"
        }
      ],
      "source": [
        "classifier.classify(atributos('peter'))"
      ]
    },
    {
      "cell_type": "markdown",
      "metadata": {
        "id": "XSUK14XhEqLL"
      },
      "source": [
        "**Model Performance**"
      ]
    },
    {
      "cell_type": "code",
      "execution_count": null,
      "metadata": {
        "colab": {
          "base_uri": "https://localhost:8080/",
          "height": 32
        },
        "id": "lenwC5agEdvT",
        "outputId": "1ceb5e52-4db6-4c5f-c714-dbf72f90e652"
      },
      "outputs": [
        {
          "name": "stdout",
          "output_type": "stream",
          "text": [
            "0.734\n"
          ]
        }
      ],
      "source": [
        "print(nltk.classify.accuracy(classifier, test))"
      ]
    },
    {
      "cell_type": "code",
      "execution_count": null,
      "metadata": {
        "colab": {
          "base_uri": "https://localhost:8080/",
          "height": 32
        },
        "id": "p5S9qeCgsJSg",
        "outputId": "6339e65d-d66e-4c96-9053-ea70d0abdea7"
      },
      "outputs": [
        {
          "name": "stdout",
          "output_type": "stream",
          "text": [
            "0.7647770016120365\n"
          ]
        }
      ],
      "source": [
        "print(nltk.classify.accuracy(classifier, train))"
      ]
    },
    {
      "cell_type": "markdown",
      "metadata": {
        "id": "aSNI7OFxGib0"
      },
      "source": [
        "**Best attributes**"
      ]
    },
    {
      "cell_type": "code",
      "execution_count": null,
      "metadata": {
        "id": "k5uaIAdDGlq8"
      },
      "outputs": [],
      "source": [
        "def mas_atributos(nombre):\n",
        "    atrib = {}\n",
        "    atrib[\"primera_letra\"] = nombre[0].lower()\n",
        "    atrib[\"ultima_letra\"] = nombre[-1].lower()\n",
        "    for letra in 'abcdefghijklmnopqrstuvwxyz':\n",
        "        atrib[\"count({})\".format(letra)] = nombre.lower().count(letra)\n",
        "        atrib[\"has({})\".format(letra)] = (letra in nombre.lower())\n",
        "    return atrib"
      ]
    },
    {
      "cell_type": "code",
      "execution_count": null,
      "metadata": {
        "id": "6-gJIxKcHKvI"
      },
      "outputs": [],
      "source": [
        "mas_atributos('jhon')"
      ]
    },
    {
      "cell_type": "code",
      "execution_count": null,
      "metadata": {
        "id": "FBu25HHgHQtK"
      },
      "outputs": [],
      "source": [
        "fset = [(mas_atributos(n), g) for (n, g) in tagset]\n",
        "train, test = fset[500:], fset[:500]\n",
        "classifier2 = nltk.NaiveBayesClassifier.train(train)"
      ]
    },
    {
      "cell_type": "code",
      "execution_count": null,
      "metadata": {
        "colab": {
          "base_uri": "https://localhost:8080/",
          "height": 32
        },
        "id": "8hWR9hOzHlNe",
        "outputId": "97d5f514-dfd5-474a-8755-4127a7bcb8dc"
      },
      "outputs": [
        {
          "name": "stdout",
          "output_type": "stream",
          "text": [
            "0.77\n"
          ]
        }
      ],
      "source": [
        "print(nltk.classify.accuracy(classifier2, test))"
      ]
    }
  ],
  "metadata": {
    "colab": {
      "provenance": []
    },
    "kernelspec": {
      "display_name": "Python 3",
      "name": "python3"
    }
  },
  "nbformat": 4,
  "nbformat_minor": 0
}
